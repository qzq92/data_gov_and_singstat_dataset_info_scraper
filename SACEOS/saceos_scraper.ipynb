{
 "cells": [
  {
   "cell_type": "markdown",
   "metadata": {},
   "source": [
    "# SACEOS Information crawler.\n",
    "This notebook is used for pulling and consolidating datasets found in SACEOS page https://saceos.org.sg/"
   ]
  },
  {
   "cell_type": "markdown",
   "metadata": {},
   "source": [
    "Library imports"
   ]
  },
  {
   "cell_type": "code",
   "execution_count": 1,
   "metadata": {},
   "outputs": [],
   "source": [
    "from selenium.webdriver.support.ui import WebDriverWait\n",
    "from selenium.webdriver.common.by import By\n",
    "from selenium.webdriver.support import expected_conditions as EC\n",
    "from selenium import webdriver \n",
    "from selenium.common.exceptions import NoSuchElementException\n",
    "\n",
    "from datetime import datetime\n",
    "from selenium.webdriver.firefox.options import Options\n",
    "import pandas as pd\n",
    "import time"
   ]
  },
  {
   "cell_type": "markdown",
   "metadata": {},
   "source": [
    "Below are the firefox profile options set to speed loading process"
   ]
  },
  {
   "cell_type": "code",
   "execution_count": 2,
   "metadata": {},
   "outputs": [],
   "source": [
    "options=Options()\n",
    "firefox_option = webdriver.FirefoxProfile()\n",
    "firefox_option.set_preference(\"network.http.pipelining\", True)\n",
    "firefox_option.set_preference(\"network.http.proxy.pipelining\", True)\n",
    "firefox_option.set_preference(\"network.http.pipelining.maxrequests\", 8)\n",
    "firefox_option.set_preference(\"content.notify.interval\", 500000)\n",
    "firefox_option.set_preference(\"content.notify.ontimer\", True)\n",
    "firefox_option.set_preference(\"content.switch.threshold\", 250000)\n",
    "# firefox_option.set_preference(\"browser.cache.memory.capacity\", 65536) # Increase the cache capacity.\n",
    "# firefox_option.set_preference(\"browser.startup.homepage\", \"about:blank\")\n",
    "# firefox_option.set_preference(\"reader.parse-on-load.enabled\", False) # Disable reader, we won't need that.\n",
    "# firefox_option.set_preference(\"browser.pocket.enabled\", False) # Duck pocket too!\n",
    "# firefox_option.set_preference(\"loop.enabled\", False)\n",
    "# firefox_option.set_preference(\"browser.chrome.toolbar_style\", 1) # Text on Toolbar instead of icons\n",
    "# firefox_option.set_preference(\"browser.display.show_image_placeholders\", False) # Don't show thumbnails on not loaded images.\n",
    "# firefox_option.set_preference(\"browser.display.use_document_colors\", False) # Don't show document colors.\n",
    "# firefox_option.set_preference(\"browser.display.use_document_fonts\", 0) # Don't load document fonts.\n",
    "# firefox_option.set_preference(\"browser.display.use_system_colors\", True) # Use system colors.\n",
    "# firefox_option.set_preference(\"browser.formfill.enable\", False) # Autofill on forms disabled.\n",
    "# firefox_option.set_preference(\"browser.helperApps.deleteTempFileOnExit\", True) # Delete temprorary files.\n",
    "# firefox_option.set_preference(\"browser.shell.checkDefaultBrowser\", False)\n",
    "# firefox_option.set_preference(\"browser.startup.homepage\", \"about:blank\")\n",
    "# firefox_option.set_preference(\"browser.startup.page\", 0) # blank\n",
    "# firefox_option.set_preference(\"browser.tabs.forceHide\", True) # Disable tabs, We won't need that.\n",
    "# firefox_option.set_preference(\"browser.urlbar.autoFill\", False) # Disable autofill on URL bar.\n",
    "# firefox_option.set_preference(\"browser.urlbar.autocomplete.enabled\", False) # Disable autocomplete on URL bar.\n",
    "# firefox_option.set_preference(\"browser.urlbar.showPopup\", False) # Disable list of URLs when typing on URL bar.\n",
    "# firefox_option.set_preference(\"browser.urlbar.showSearch\", False) # Disable search bar.\n",
    "# firefox_option.set_preference(\"extensions.checkCompatibility\", False) # Addon update disabled\n",
    "# firefox_option.set_preference(\"extensions.checkUpdateSecurity\", False)\n",
    "# firefox_option.set_preference(\"extensions.update.autoUpdateEnabled\", False)\n",
    "# firefox_option.set_preference(\"extensions.update.enabled\", False)\n",
    "# firefox_option.set_preference(\"general.startup.browser\", False)\n",
    "# firefox_option.set_preference(\"plugin.default_plugin_disabled\", False)\n",
    "# firefox_option.set_preference(\"permissions.default.image\", 2) # Image load disabled again\n",
    "# firefox_option.set_preference(\"javascript.enabled\", True)\n",
    "options.profile = firefox_option"
   ]
  },
  {
   "cell_type": "markdown",
   "metadata": {},
   "source": [
    "### Getting SG upcoming calendar of MICE events from SACEOS  https://saceos.org.sg/mice-events-calendar-listing/\n"
   ]
  },
  {
   "cell_type": "markdown",
   "metadata": {},
   "source": [
    "# MAIN execution"
   ]
  },
  {
   "cell_type": "code",
   "execution_count": 14,
   "metadata": {},
   "outputs": [
    {
     "name": "stdout",
     "output_type": "stream",
     "text": [
      "Clicking monthly events\n",
      "January 2024\n",
      "Clicking it...\n",
      "February 2024\n",
      "Clicking it...\n",
      "March 2024\n",
      "Clicking it...\n",
      "April 2024\n",
      "Clicking it...\n",
      "May 2024\n",
      "Clicking it...\n",
      "June 2024\n",
      "Clicking it...\n",
      "July 2024\n",
      "Clicking it...\n",
      "August 2024\n",
      "Clicking it...\n",
      "September 2024\n",
      "Clicking it...\n",
      "October 2024\n",
      "Clicking it...\n",
      "November 2024\n",
      "Clicking it...\n",
      "December 2024\n",
      "Clicking it...\n",
      "April 2025\n",
      "Clicking it...\n",
      "May 2025\n",
      "Clicking it...\n",
      "Starting to trace events\n",
      "Total events:  181\n"
     ]
    }
   ],
   "source": [
    "#CFG\n",
    "BASELINE_INFO_SCRAPE = False\n",
    "\n",
    "URL = \"https://saceos.org.sg/mice-events-calendar-listing/\"\n",
    "driver = webdriver.Firefox(options=options)\n",
    "driver.get(URL)\n",
    "\n",
    "# XPATH wher\n",
    "expand_xpath= \"//div[@class='elementor-toggle-item']/div[1]/a\"\n",
    "\n",
    "# Webpage wait for required xpath to load\n",
    "WebDriverWait(driver, 5).until(EC.presence_of_element_located((By.XPATH, expand_xpath)))\n",
    "\n",
    "expandable_tabs = driver.find_elements(by=By.XPATH, value=expand_xpath)\n",
    "print(\"Clicking monthly events\")\n",
    "for tab in expandable_tabs:\n",
    "    print(tab.text)\n",
    "    print(\"Clicking it...\")\n",
    "    tab.click()\n",
    "    time.sleep(2)\n",
    "\n",
    "print(\"Starting to trace events\")\n",
    "event_tracking_list = []\n",
    "# Find elements\n",
    "events_xpath= \"//h2//*[contains(@style, 'text-decoration: underline; color: #000000;')]\"\n",
    "total_events_list= driver.find_elements(by=By.XPATH, value=events_xpath)\n",
    "print(\"Total events: \", len(total_events_list))\n",
    "for event in total_events_list:\n",
    "    event_title = event.text\n",
    "\n",
    "    event_date_xpath = \"./../following-sibling::ul//li//*[contains(text(), 'Date')]\"\n",
    "    event_location_xpath = \"./../following-sibling::ul//li//*[contains(text(), 'Location')]\"\n",
    "    href_location_xpath = \"./../following-sibling::ul//li//*[contains(text(), 'https')]\"\n",
    "\n",
    "    try:\n",
    "        event_date = event.find_element(by=By.XPATH, value=event_date_xpath).text\n",
    "    except NoSuchElementException:\n",
    "        print(\"Date unknown\")\n",
    "        event_date= \"\"    \n",
    "    try:\n",
    "        event_location = event.find_element(by=By.XPATH, value=event_location_xpath).text\n",
    "    except NoSuchElementException:\n",
    "        print(\"Location unknown\")\n",
    "        event_location = \"\"\n",
    "\n",
    "    try:\n",
    "        event_href =  event.find_element(by=By.XPATH, value=href_location_xpath).text\n",
    "    except NoSuchElementException:\n",
    "        print(\"Ref unknown\")\n",
    "        event_href = \"\"\n",
    "\n",
    "    if event_title == \"\" and event_href:\n",
    "        event_title = event_href.split(\".\")[1]\n",
    "        \n",
    "    event_metadata_list = [event_title, event_date, event_location , event_href]\n",
    "    print(event_metadata_list)\n",
    "    event_tracking_list.append(event_metadata_list)\n"
   ]
  },
  {
   "cell_type": "markdown",
   "metadata": {},
   "source": [
    "## Save data to csv"
   ]
  },
  {
   "cell_type": "code",
   "execution_count": null,
   "metadata": {},
   "outputs": [],
   "source": [
    "## Convert dataset dictionary to dataframe\n",
    "if event_tracking_list:\n",
    "    df = pd.DataFrame(event_tracking_list, columns=[\"Event Title\", \"Date\", \"Location\", \"URL\"])\n",
    "    \n",
    "    # Drop duplicates for cases with same date/location/url\n",
    "    df.drop_duplicates(subset=[\"Date\", \"Location\", \"URL\"], inplace=True, keep=\"last\")\n",
    "    datetime_now = datetime.now().strftime(\"%d/%m/%Y %H:%M:%S\")\n",
    "    file_name_date = datetime.now().strftime(\"%d%m%Y_%H%M%S\")\n",
    "\n",
    "    df[\"Date_of_check\"] = datetime_now\n",
    "    df.head()\n",
    "\n",
    "    dataset_filename = f\"Eventbrite_dataset_{file_name_date}.csv\"\n",
    "    df.to_csv(dataset_filename, index=False, encoding='utf-8')\n",
    "\n",
    "\n",
    "# Close driver upon completion of saving file\n",
    "driver.quit()\n"
   ]
  },
  {
   "cell_type": "code",
   "execution_count": null,
   "metadata": {},
   "outputs": [],
   "source": []
  }
 ],
 "metadata": {
  "kernelspec": {
   "display_name": "base",
   "language": "python",
   "name": "python3"
  },
  "language_info": {
   "codemirror_mode": {
    "name": "ipython",
    "version": 3
   },
   "file_extension": ".py",
   "mimetype": "text/x-python",
   "name": "python",
   "nbconvert_exporter": "python",
   "pygments_lexer": "ipython3",
   "version": "3.12.2"
  }
 },
 "nbformat": 4,
 "nbformat_minor": 2
}
